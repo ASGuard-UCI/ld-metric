{
 "cells": [
  {
   "cell_type": "code",
   "execution_count": 1,
   "id": "virtual-investing",
   "metadata": {},
   "outputs": [],
   "source": [
    "import os\n",
    "import sys\n",
    "import pickle\n",
    "import json\n",
    "sys.path.append('../')\n",
    "os.environ[\"CUDA_VISIBLE_DEVICES\"]=\"-1\"\n",
    "\n",
    "from tqdm.auto import tqdm\n",
    "import numpy as np\n",
    "import pandas as pd\n",
    "import cv2\n",
    "import matplotlib.pyplot as plt\n",
    "from scipy.stats import pearsonr"
   ]
  },
  {
   "cell_type": "code",
   "execution_count": 2,
   "id": "governmental-graphics",
   "metadata": {},
   "outputs": [],
   "source": [
    "def get_result_replay(path, epoch=10000):\n",
    "    res = []\n",
    "    lateral_shift = total_lateral_shift = lateral_shift_openpilot = 0\n",
    "    with open(path) as f:\n",
    "        for line in f:\n",
    "            if ': yaw_diff:' in line:\n",
    "                lateral_shift = float(line.strip().split(':')[-3].split(',')[0])\n",
    "                total_lateral_shift = float(line.strip().split(':')[-2].split(',')[0])\n",
    "                lateral_shift_openpilot = float(line.strip().split(':')[-1].split(',')[0])\n",
    "\n",
    "                res.append((lateral_shift, total_lateral_shift, lateral_shift_openpilot))\n",
    "            \n",
    "    return pd.DataFrame(res, columns=['lateral_shift', 'total_lateral_shift', 'lateral_shift_openpilot'])\n",
    "\n",
    "\n",
    "def get_result_replay2(path, epoch=10000):\n",
    "    res = []\n",
    "    lateral_shift = total_lateral_shift = lateral_shift_openpilot = 0\n",
    "    with open(path) as f:\n",
    "        for line in f:\n",
    "            if '] desired steering angle:' in line:\n",
    "\n",
    "                desire = float(line.strip().split(':')[3].split(',')[0])\n",
    "                current = float(line.strip().split(':')[4])\n",
    "\n",
    "                res.append((desire, current))\n",
    "            \n",
    "    return pd.DataFrame(res, columns=['desire', 'current'])"
   ]
  },
  {
   "cell_type": "code",
   "execution_count": 3,
   "id": "regulation-character",
   "metadata": {},
   "outputs": [
    {
     "data": {
      "application/vnd.jupyter.widget-view+json": {
       "model_id": "65cfda79efb84963beee240227ad04e3",
       "version_major": 2,
       "version_minor": 0
      },
      "text/plain": [
       "HBox(children=(FloatProgress(value=0.0, max=1.0), HTML(value='')))"
      ]
     },
     "metadata": {},
     "output_type": "display_data"
    },
    {
     "data": {
      "application/vnd.jupyter.widget-view+json": {
       "model_id": "9d15b5eabc304adf8797c970af864b51",
       "version_major": 2,
       "version_minor": 0
      },
      "text/plain": [
       "HBox(children=(FloatProgress(value=0.0, max=4.0), HTML(value='')))"
      ]
     },
     "metadata": {},
     "output_type": "display_data"
    },
    {
     "data": {
      "application/vnd.jupyter.widget-view+json": {
       "model_id": "d9846620f8064794a256fe5016893617",
       "version_major": 2,
       "version_minor": 0
      },
      "text/plain": [
       "HBox(children=(FloatProgress(value=0.0), HTML(value='')))"
      ]
     },
     "metadata": {},
     "output_type": "display_data"
    },
    {
     "name": "stdout",
     "output_type": "stream",
     "text": [
      "\n"
     ]
    },
    {
     "data": {
      "application/vnd.jupyter.widget-view+json": {
       "model_id": "73f13e50a6e94e6c8e7b579b425d5a7a",
       "version_major": 2,
       "version_minor": 0
      },
      "text/plain": [
       "HBox(children=(FloatProgress(value=0.0), HTML(value='')))"
      ]
     },
     "metadata": {},
     "output_type": "display_data"
    },
    {
     "name": "stdout",
     "output_type": "stream",
     "text": [
      "\n"
     ]
    },
    {
     "data": {
      "application/vnd.jupyter.widget-view+json": {
       "model_id": "508ef54d02544c5eb78f6b3efd92f7e9",
       "version_major": 2,
       "version_minor": 0
      },
      "text/plain": [
       "HBox(children=(FloatProgress(value=0.0), HTML(value='')))"
      ]
     },
     "metadata": {},
     "output_type": "display_data"
    },
    {
     "name": "stdout",
     "output_type": "stream",
     "text": [
      "\n"
     ]
    },
    {
     "data": {
      "application/vnd.jupyter.widget-view+json": {
       "model_id": "226b6e03542d4748806f4ad6dd3d6c20",
       "version_major": 2,
       "version_minor": 0
      },
      "text/plain": [
       "HBox(children=(FloatProgress(value=0.0), HTML(value='')))"
      ]
     },
     "metadata": {},
     "output_type": "display_data"
    },
    {
     "name": "stdout",
     "output_type": "stream",
     "text": [
      "\n",
      "\n",
      "\n"
     ]
    }
   ],
   "source": [
    "##### Attack\n",
    "frame = 0\n",
    "N = 20\n",
    "M = 20\n",
    "BASE_DIR = '../logs/comma_attack/'\n",
    "all_res = []\n",
    "\n",
    "for sim in tqdm([10]):\n",
    "    map_res = {}\n",
    "    for model_type in tqdm(['laneatt', 'scnn', 'ultrafast', 'polylanenet']):\n",
    "        list_res = []\n",
    "        for i in tqdm(range(1, 101)):\n",
    "\n",
    "            df_gt = get_result_replay(f'../logs/comma_benign/replay_nan_more/scb{i}/replay_comma_more_metric.py_f0.log').tail(N).reset_index(drop=True).head(M)\n",
    "            assert df_gt.shape[0] == M\n",
    "            df_e2e = get_result_replay(BASE_DIR + f'logs_more_drp_wb/logs_more_{model_type}/scb{i}/run_comma_more_attack_drp_wb.py.log').tail(N).reset_index(drop=True).head(M)\n",
    "            if df_e2e.shape[0] == 0:\n",
    "                print(BASE_DIR + f'logs_more_drp_wb/logs_more_{model_type}/scb{i}/run_comma_more_attack_drp_wb.py.log')\n",
    "                raise Exception(f'{model_type} {i}')\n",
    "\n",
    "            metric = 0\n",
    "            for frame in range(M - 1):\n",
    "                df_metric  = get_result_replay(BASE_DIR + f'logs_more_drp_wb/logs_more_{model_type}/scb{i}/replay_comma_more_attack_drp_wb_metric.py_f{frame}.log').tail(N).reset_index(drop=True).head(M)\n",
    "                if df_metric.shape[0] != df_gt.shape[0]:\n",
    "                    raise Exception(f'{model_type} sc{i} frame={frame}')\n",
    "                m = (df_metric['total_lateral_shift'] - df_gt['total_lateral_shift']).abs().iloc[frame + 1:].head(sim).max()\n",
    "                metric += m / sim\n",
    "\n",
    "            e2e = (df_e2e['total_lateral_shift'] - df_gt['total_lateral_shift']).abs().max()\n",
    "            res = [frame, i, e2e, metric]\n",
    "            list_res.append(res)\n",
    "\n",
    "\n",
    "        df = pd.DataFrame(list_res, columns=['frame',  '#', f'{model_type}_e2e', f'{model_type}_metric'])\n",
    "        r, p = pearsonr(df[f'{model_type}_e2e'].values, df[f'{model_type}_metric'].values)\n",
    "\n",
    "        ### To obtain Accuracy and F1 score, please run tusimple-benchmark/example/xxx.ipynb, and use the following code\n",
    "        # df_old = pd.read_csv(f'tusimple-benchmark/example/df_attack_acc_{model_type}.csv')\n",
    "        # df_old['#'] = df_old['scn']#.map(lambda x: int(x.split('/')[-3][3:])) \n",
    "        # df_old = df_old.groupby('#', as_index=False)[['ACC', 'F1']].mean()\n",
    "        # df_old = pd.merge(df, df_old, on='#', how='inner')\n",
    "        # r_acc, p_acc = pearsonr(df_old[f'{model_type}_e2e'].values, df_old[f'ACC'].values)\n",
    "        # r_f1, p_f1 = pearsonr(df_old[f'{model_type}_e2e'].values, df_old[f'F1'].values)\n",
    "                \n",
    "        all_res.append({\n",
    "            'model': model_type, \n",
    "                               'sim': sim, \n",
    "                               'r': r, 'p': p,\n",
    "                               'e2e': df[f'{model_type}_e2e'].mean(),\n",
    "                                'metric': df[f'{model_type}_metric'].mean(),\n",
    "\n",
    "                               'e2e_std': df[f'{model_type}_e2e'].std(),\n",
    "                                'metric_std': df[f'{model_type}_metric'].std(),\n",
    "            \n",
    "                                # 'ACC': df_old['ACC'].mean(),\n",
    "                                # 'F1': df_old['F1'].mean(),\n",
    "                                # 'r_acc': r_acc, 'p_acc': p_acc,\n",
    "                                # 'r_f1': r_f1, 'p_f1': p_f1,\n",
    "                              })"
   ]
  },
  {
   "cell_type": "code",
   "execution_count": 4,
   "id": "generous-norfolk",
   "metadata": {},
   "outputs": [
    {
     "data": {
      "text/html": [
       "<div>\n",
       "<style scoped>\n",
       "    .dataframe tbody tr th:only-of-type {\n",
       "        vertical-align: middle;\n",
       "    }\n",
       "\n",
       "    .dataframe tbody tr th {\n",
       "        vertical-align: top;\n",
       "    }\n",
       "\n",
       "    .dataframe thead th {\n",
       "        text-align: right;\n",
       "    }\n",
       "</style>\n",
       "<table border=\"1\" class=\"dataframe\">\n",
       "  <thead>\n",
       "    <tr style=\"text-align: right;\">\n",
       "      <th></th>\n",
       "      <th>model</th>\n",
       "      <th>sim</th>\n",
       "      <th>r</th>\n",
       "      <th>p</th>\n",
       "      <th>e2e</th>\n",
       "      <th>metric</th>\n",
       "      <th>e2e_std</th>\n",
       "      <th>metric_std</th>\n",
       "      <th>p*</th>\n",
       "      <th>p**</th>\n",
       "    </tr>\n",
       "  </thead>\n",
       "  <tbody>\n",
       "    <tr>\n",
       "      <th>0</th>\n",
       "      <td>laneatt</td>\n",
       "      <td>10</td>\n",
       "      <td>0.952190</td>\n",
       "      <td>2.871914e-52</td>\n",
       "      <td>0.718546</td>\n",
       "      <td>0.803190</td>\n",
       "      <td>0.427487</td>\n",
       "      <td>0.479374</td>\n",
       "      <td>True</td>\n",
       "      <td>True</td>\n",
       "    </tr>\n",
       "    <tr>\n",
       "      <th>1</th>\n",
       "      <td>scnn</td>\n",
       "      <td>10</td>\n",
       "      <td>0.956611</td>\n",
       "      <td>2.751612e-54</td>\n",
       "      <td>0.480297</td>\n",
       "      <td>0.576358</td>\n",
       "      <td>0.387050</td>\n",
       "      <td>0.477149</td>\n",
       "      <td>True</td>\n",
       "      <td>True</td>\n",
       "    </tr>\n",
       "    <tr>\n",
       "      <th>2</th>\n",
       "      <td>ultrafast</td>\n",
       "      <td>10</td>\n",
       "      <td>0.927686</td>\n",
       "      <td>1.013717e-43</td>\n",
       "      <td>0.578595</td>\n",
       "      <td>0.616981</td>\n",
       "      <td>0.343069</td>\n",
       "      <td>0.419585</td>\n",
       "      <td>True</td>\n",
       "      <td>True</td>\n",
       "    </tr>\n",
       "    <tr>\n",
       "      <th>3</th>\n",
       "      <td>polylanenet</td>\n",
       "      <td>10</td>\n",
       "      <td>0.970116</td>\n",
       "      <td>4.415753e-62</td>\n",
       "      <td>0.381957</td>\n",
       "      <td>0.417396</td>\n",
       "      <td>0.289877</td>\n",
       "      <td>0.312773</td>\n",
       "      <td>True</td>\n",
       "      <td>True</td>\n",
       "    </tr>\n",
       "  </tbody>\n",
       "</table>\n",
       "</div>"
      ],
      "text/plain": [
       "         model  sim         r             p       e2e    metric   e2e_std  \\\n",
       "0      laneatt   10  0.952190  2.871914e-52  0.718546  0.803190  0.427487   \n",
       "1         scnn   10  0.956611  2.751612e-54  0.480297  0.576358  0.387050   \n",
       "2    ultrafast   10  0.927686  1.013717e-43  0.578595  0.616981  0.343069   \n",
       "3  polylanenet   10  0.970116  4.415753e-62  0.381957  0.417396  0.289877   \n",
       "\n",
       "   metric_std    p*   p**  \n",
       "0    0.479374  True  True  \n",
       "1    0.477149  True  True  \n",
       "2    0.419585  True  True  \n",
       "3    0.312773  True  True  "
      ]
     },
     "execution_count": 4,
     "metadata": {},
     "output_type": "execute_result"
    }
   ],
   "source": [
    "df_res = pd.DataFrame(all_res)\n",
    "df_res['p*'] = df_res['p'] < 0.05\n",
    "df_res['p**'] = df_res['p'] < 0.1\n",
    "pd.options.display.max_rows = 999\n",
    "df_res"
   ]
  }
 ],
 "metadata": {
  "kernelspec": {
   "display_name": "Python 3",
   "language": "python",
   "name": "python3"
  },
  "language_info": {
   "codemirror_mode": {
    "name": "ipython",
    "version": 3
   },
   "file_extension": ".py",
   "mimetype": "text/x-python",
   "name": "python",
   "nbconvert_exporter": "python",
   "pygments_lexer": "ipython3",
   "version": "3.7.8"
  }
 },
 "nbformat": 4,
 "nbformat_minor": 5
}
