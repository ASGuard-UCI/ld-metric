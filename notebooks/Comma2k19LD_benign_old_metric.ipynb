{
 "cells": [
  {
   "cell_type": "code",
   "execution_count": 1,
   "id": "theoretical-baseball",
   "metadata": {},
   "outputs": [],
   "source": [
    "import sys\n",
    "import json\n",
    "import glob\n",
    "import pickle\n",
    "sys.path.append('../')\n",
    "\n",
    "import numpy as np\n",
    "from tqdm.auto import tqdm\n",
    "import pandas as pd\n",
    "import joblib\n",
    "import cv2\n",
    "import matplotlib.pyplot as plt\n",
    "from scipy.interpolate import InterpolatedUnivariateSpline\n",
    "\n",
    "from evaluate.lane import LaneEval\n",
    "\n",
    "# See https://www.kaggle.com/tkm2261/usage-of-comma2k19-ld\n",
    "with open('../../data/comma2k19ld_tusimple_annotation.json', 'r') as f:\n",
    "    map_json_gt = json.loads(f.read())\n",
    "    \n",
    "BASE_DIR = '../../logs/comma_benign/'\n"
   ]
  },
  {
   "cell_type": "code",
   "execution_count": 2,
   "id": "political-iceland",
   "metadata": {},
   "outputs": [],
   "source": [
    "def camera2model(img):\n",
    "    assert img.shape == (874, 1164, 3)\n",
    "    img = img[200:-220, 106:-106]\n",
    "    img = cv2.resize(img, (1280, 720))#.astype(np.float64)\n",
    "    return img\n",
    "\n",
    "def get_sloop(_x, _y):\n",
    "    _x, _y = np.array(_x), np.array(_y)\n",
    "    x = _x[_x > 0]\n",
    "    y = _y[_x > 0]\n",
    "    \n",
    "    x = (y[-1] - y[0]) / (x[-1] - x[0])\n",
    "    return x"
   ]
  },
  {
   "cell_type": "code",
   "execution_count": 4,
   "id": "legislative-dublin",
   "metadata": {},
   "outputs": [
    {
     "name": "stdout",
     "output_type": "stream",
     "text": [
      "laneatt\n"
     ]
    },
    {
     "data": {
      "application/vnd.jupyter.widget-view+json": {
       "model_id": "bcb3a73d164c40ffb8e5cc735d92cef0",
       "version_major": 2,
       "version_minor": 0
      },
      "text/plain": [
       "HBox(children=(FloatProgress(value=0.0, max=2100.0), HTML(value='')))"
      ]
     },
     "metadata": {},
     "output_type": "display_data"
    },
    {
     "name": "stdout",
     "output_type": "stream",
     "text": [
      "\n",
      "2100\n",
      "scnn\n"
     ]
    },
    {
     "data": {
      "application/vnd.jupyter.widget-view+json": {
       "model_id": "bb2a348f61664f409e790f33cfc72038",
       "version_major": 2,
       "version_minor": 0
      },
      "text/plain": [
       "HBox(children=(FloatProgress(value=0.0, max=2100.0), HTML(value='')))"
      ]
     },
     "metadata": {},
     "output_type": "display_data"
    },
    {
     "name": "stdout",
     "output_type": "stream",
     "text": [
      "\n",
      "2100\n",
      "ultrafast\n"
     ]
    },
    {
     "data": {
      "application/vnd.jupyter.widget-view+json": {
       "model_id": "3c0ab9ea38624d77adef4ad3cf9d0583",
       "version_major": 2,
       "version_minor": 0
      },
      "text/plain": [
       "HBox(children=(FloatProgress(value=0.0, max=2100.0), HTML(value='')))"
      ]
     },
     "metadata": {},
     "output_type": "display_data"
    },
    {
     "name": "stdout",
     "output_type": "stream",
     "text": [
      "\n",
      "2100\n",
      "polylanenet\n"
     ]
    },
    {
     "data": {
      "application/vnd.jupyter.widget-view+json": {
       "model_id": "07c6ed6a04eb4e9291433304756b361f",
       "version_major": 2,
       "version_minor": 0
      },
      "text/plain": [
       "HBox(children=(FloatProgress(value=0.0, max=2100.0), HTML(value='')))"
      ]
     },
     "metadata": {},
     "output_type": "display_data"
    },
    {
     "name": "stdout",
     "output_type": "stream",
     "text": [
      "\n",
      "2100\n"
     ]
    },
    {
     "data": {
      "text/html": [
       "<div>\n",
       "<style scoped>\n",
       "    .dataframe tbody tr th:only-of-type {\n",
       "        vertical-align: middle;\n",
       "    }\n",
       "\n",
       "    .dataframe tbody tr th {\n",
       "        vertical-align: top;\n",
       "    }\n",
       "\n",
       "    .dataframe thead th {\n",
       "        text-align: right;\n",
       "    }\n",
       "</style>\n",
       "<table border=\"1\" class=\"dataframe\">\n",
       "  <thead>\n",
       "    <tr style=\"text-align: right;\">\n",
       "      <th></th>\n",
       "      <th>ACC</th>\n",
       "      <th>F1</th>\n",
       "    </tr>\n",
       "    <tr>\n",
       "      <th>model_type</th>\n",
       "      <th></th>\n",
       "      <th></th>\n",
       "    </tr>\n",
       "  </thead>\n",
       "  <tbody>\n",
       "    <tr>\n",
       "      <th>laneatt</th>\n",
       "      <td>0.887024</td>\n",
       "      <td>0.749762</td>\n",
       "    </tr>\n",
       "    <tr>\n",
       "      <th>scnn</th>\n",
       "      <td>0.929664</td>\n",
       "      <td>0.84119</td>\n",
       "    </tr>\n",
       "    <tr>\n",
       "      <th>ultrafast</th>\n",
       "      <td>0.917844</td>\n",
       "      <td>0.814762</td>\n",
       "    </tr>\n",
       "    <tr>\n",
       "      <th>polylanenet</th>\n",
       "      <td>0.777049</td>\n",
       "      <td>0.50119</td>\n",
       "    </tr>\n",
       "  </tbody>\n",
       "</table>\n",
       "</div>"
      ],
      "text/plain": [
       "                  ACC        F1\n",
       "model_type                     \n",
       "laneatt      0.887024  0.749762\n",
       "scnn         0.929664   0.84119\n",
       "ultrafast    0.917844  0.814762\n",
       "polylanenet  0.777049   0.50119"
      ]
     },
     "execution_count": 4,
     "metadata": {},
     "output_type": "execute_result"
    }
   ],
   "source": [
    "df_res = []\n",
    "for model_type in  ['laneatt', 'scnn', 'ultrafast', 'polylanenet']:\n",
    "    print(model_type)\n",
    "\n",
    "    res = []\n",
    "    imgs = []\n",
    "    for path, gt in tqdm(map_json_gt.items()):\n",
    "\n",
    "        run_time = 0 #pred['run_time']\n",
    "        gt_lanes = gt['lanes']\n",
    "        y_samples = gt['h_samples']\n",
    "        raw_file = gt['raw_file']\n",
    "        \n",
    "        \n",
    "        sc_n = int(path.split('/')[-3][3:])\n",
    "        frame = int(path.split('/')[-1][:-4])\n",
    "        \n",
    "        pred_path = BASE_DIR + f'replay_{model_type}_more_noupdate/scb{sc_n}/e2e/model_benign_lane_pred.pkl'\n",
    "        lanes = np.load(pred_path, allow_pickle=True)\n",
    "        \n",
    "        left_lane, right_lane = lanes[frame][0], lanes[frame][1]        \n",
    "\n",
    "        left_lane[:, 0] = (left_lane[:, 0] - 106) / 952 * 1280\n",
    "        left_lane[:, 1] = (left_lane[:, 1] - 206) / 454 * 720\n",
    "        right_lane[:, 0] = (right_lane[:, 0] - 106) / 952 * 1280\n",
    "        right_lane[:, 1] = (right_lane[:, 1] - 206) / 454 * 720\n",
    "        \n",
    "        \n",
    "        idx = np.argsort(left_lane[:, 1])\n",
    "        left_lane = left_lane[idx]\n",
    "        idx = np.argsort(right_lane[:, 1])\n",
    "        right_lane = right_lane[idx]\n",
    "\n",
    "        if left_lane.shape[0] > 1:\n",
    "            left_lane_x = InterpolatedUnivariateSpline(left_lane[:, 1], left_lane[:, 0], k=min(1, len(left_lane) - 1))(y_samples)\n",
    "        elif  left_lane.shape[0] == 0:\n",
    "            left_lane_x = np.ones_like(y_samples) * -2\n",
    "        else:\n",
    "            left_lane_x = np.ones_like(y_samples) * left_lane[0, 0]\n",
    "        if right_lane.shape[0] > 1:\n",
    "            right_lane_x = InterpolatedUnivariateSpline(right_lane[:, 1], right_lane[:, 0], k=min(1, len(right_lane) - 1))(y_samples)\n",
    "        elif  right_lane.shape[0] == 0:\n",
    "            right_lane = np.ones_like(y_samples) * -2\n",
    "        else:\n",
    "            right_lane_x = np.ones_like(y_samples) * right_lane[0, 0]\n",
    "            \n",
    "            \n",
    "        left_lane_x[np.array(gt_lanes[0]) == -2] = -2\n",
    "        right_lane_x[np.array(gt_lanes[1]) == -2] = -2\n",
    "\n",
    "        pred_lanes = [left_lane_x, right_lane_x]\n",
    "\n",
    "        #np.random.shuffle(pred_lanes)\n",
    "        # Overall Accuracy, False Positive Rate, False Negative Rate\n",
    "        acc, _fp, _fn = LaneEval.bench(pred_lanes, gt_lanes, y_samples, run_time)\n",
    "        \n",
    "        fp = _fp * 2\n",
    "        tp = 2 - fp \n",
    "        fn = _fn * 2\n",
    "        f1 = tp / (tp + (fn + (2 - tp)) * 0.5)\n",
    "        res.append([path, acc, f1])\n",
    "\n",
    "        gt_lanes_vis = [[(x, y) for (x, y) in zip(lane, y_samples) if x >= 0] for lane in gt_lanes]\n",
    "        pred_lanes_vis = [[(x, y) for (x, y) in zip(lane, y_samples) if x >= 0] for lane in pred_lanes]\n",
    "        #\n",
    "\n",
    "    print(len(res))\n",
    "    #plt.figure(figsize=(18, 12))\n",
    "    #t = cv2.vconcat([cv2.hconcat(imgs[i:i+5]) for i in range(0, len(imgs), 5)])\n",
    "    #plt.title(model_type)\n",
    "    #plt.imshow(t)\n",
    "    \n",
    "    pd.DataFrame(res, columns=['path', 'ACC', 'F1']).to_csv(f'df_acc_{model_type}.csv', index=False)\n",
    "    \n",
    "    tmp = pd.DataFrame(res, columns=['path', 'ACC', 'F1']).drop('path', axis=1).mean(axis=0)\n",
    "    tmp['model_type'] = model_type\n",
    "    df_res.append(tmp)\n",
    "pd.concat(df_res, axis=1).T.set_index('model_type')"
   ]
  }
 ],
 "metadata": {
  "kernelspec": {
   "display_name": "Python 3",
   "language": "python",
   "name": "python3"
  },
  "language_info": {
   "codemirror_mode": {
    "name": "ipython",
    "version": 3
   },
   "file_extension": ".py",
   "mimetype": "text/x-python",
   "name": "python",
   "nbconvert_exporter": "python",
   "pygments_lexer": "ipython3",
   "version": "3.7.8"
  }
 },
 "nbformat": 4,
 "nbformat_minor": 5
}
