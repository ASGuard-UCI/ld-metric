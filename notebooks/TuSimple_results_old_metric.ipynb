{
 "cells": [
  {
   "cell_type": "code",
   "execution_count": 1,
   "id": "wanted-enclosure",
   "metadata": {},
   "outputs": [],
   "source": [
    "import sys\n",
    "sys.path.append('../')\n",
    "sys.path.append('../tusimple-benchmark/')\n",
    "import json\n",
    "import glob\n",
    "import pickle\n",
    "\n",
    "import numpy as np\n",
    "import pandas as pd\n",
    "import cv2\n",
    "import joblib\n",
    "import matplotlib.pyplot as plt\n",
    "from tqdm.auto import tqdm\n",
    "from scipy.interpolate import InterpolatedUnivariateSpline\n",
    "\n",
    "from evaluate.lane import LaneEval\n",
    "\n",
    "\n",
    "map_json_gt = {json.loads(line)['raw_file']:json.loads(line) for line in open('../tusimple-test/test_label.json')}"
   ]
  },
  {
   "cell_type": "markdown",
   "id": "soviet-acceptance",
   "metadata": {},
   "source": [
    "# Benign Accuracy and F1 score"
   ]
  },
  {
   "cell_type": "code",
   "execution_count": 2,
   "id": "going-costs",
   "metadata": {},
   "outputs": [
    {
     "name": "stdout",
     "output_type": "stream",
     "text": [
      "laneatt\n"
     ]
    },
    {
     "data": {
      "application/vnd.jupyter.widget-view+json": {
       "model_id": "62fb195776ff443fbc97a2820cd0c65d",
       "version_major": 2,
       "version_minor": 0
      },
      "text/plain": [
       "HBox(children=(FloatProgress(value=0.0, description='laneatt', max=30.0, style=ProgressStyle(description_width…"
      ]
     },
     "metadata": {},
     "output_type": "display_data"
    },
    {
     "name": "stdout",
     "output_type": "stream",
     "text": [
      "\n",
      "30\n",
      "scnn\n"
     ]
    },
    {
     "data": {
      "application/vnd.jupyter.widget-view+json": {
       "model_id": "5564c7ac9e2f47eb94da4cb1f05ad945",
       "version_major": 2,
       "version_minor": 0
      },
      "text/plain": [
       "HBox(children=(FloatProgress(value=0.0, description='scnn', max=30.0, style=ProgressStyle(description_width='i…"
      ]
     },
     "metadata": {},
     "output_type": "display_data"
    },
    {
     "name": "stdout",
     "output_type": "stream",
     "text": [
      "\n",
      "30\n",
      "ultrafast\n"
     ]
    },
    {
     "data": {
      "application/vnd.jupyter.widget-view+json": {
       "model_id": "2b407d75008946baad111e9f50bfdb21",
       "version_major": 2,
       "version_minor": 0
      },
      "text/plain": [
       "HBox(children=(FloatProgress(value=0.0, description='ultrafast', max=30.0, style=ProgressStyle(description_wid…"
      ]
     },
     "metadata": {},
     "output_type": "display_data"
    },
    {
     "name": "stdout",
     "output_type": "stream",
     "text": [
      "\n",
      "30\n",
      "polylanenet\n"
     ]
    },
    {
     "data": {
      "application/vnd.jupyter.widget-view+json": {
       "model_id": "cf13ffb44bf145678f257596ee7c6ecf",
       "version_major": 2,
       "version_minor": 0
      },
      "text/plain": [
       "HBox(children=(FloatProgress(value=0.0, description='polylanenet', max=30.0, style=ProgressStyle(description_w…"
      ]
     },
     "metadata": {},
     "output_type": "display_data"
    },
    {
     "name": "stdout",
     "output_type": "stream",
     "text": [
      "\n",
      "30\n"
     ]
    },
    {
     "data": {
      "text/html": [
       "<div>\n",
       "<style scoped>\n",
       "    .dataframe tbody tr th:only-of-type {\n",
       "        vertical-align: middle;\n",
       "    }\n",
       "\n",
       "    .dataframe tbody tr th {\n",
       "        vertical-align: top;\n",
       "    }\n",
       "\n",
       "    .dataframe thead th {\n",
       "        text-align: right;\n",
       "    }\n",
       "</style>\n",
       "<table border=\"1\" class=\"dataframe\">\n",
       "  <thead>\n",
       "    <tr style=\"text-align: right;\">\n",
       "      <th></th>\n",
       "      <th>ACC</th>\n",
       "      <th>F1</th>\n",
       "    </tr>\n",
       "    <tr>\n",
       "      <th>model_type</th>\n",
       "      <th></th>\n",
       "      <th></th>\n",
       "    </tr>\n",
       "  </thead>\n",
       "  <tbody>\n",
       "    <tr>\n",
       "      <th>laneatt</th>\n",
       "      <td>0.940476</td>\n",
       "      <td>0.883333</td>\n",
       "    </tr>\n",
       "    <tr>\n",
       "      <th>scnn</th>\n",
       "      <td>0.89256</td>\n",
       "      <td>0.75</td>\n",
       "    </tr>\n",
       "    <tr>\n",
       "      <th>ultrafast</th>\n",
       "      <td>0.867857</td>\n",
       "      <td>0.766667</td>\n",
       "    </tr>\n",
       "    <tr>\n",
       "      <th>polylanenet</th>\n",
       "      <td>0.721429</td>\n",
       "      <td>0.5</td>\n",
       "    </tr>\n",
       "  </tbody>\n",
       "</table>\n",
       "</div>"
      ],
      "text/plain": [
       "                  ACC        F1\n",
       "model_type                     \n",
       "laneatt      0.940476  0.883333\n",
       "scnn          0.89256      0.75\n",
       "ultrafast    0.867857  0.766667\n",
       "polylanenet  0.721429       0.5"
      ]
     },
     "execution_count": 2,
     "metadata": {},
     "output_type": "execute_result"
    }
   ],
   "source": [
    "df_res = []\n",
    "for model_type in ['laneatt', 'scnn', 'ultrafast', 'polylanenet']:\n",
    "    print(model_type)\n",
    "    paths = glob.glob(f'../logs/tusimple_benign/logs_{model_type}_replay/tusimple_*/replay/model_benign_lane_pred.pkl')\n",
    "    res = []\n",
    "    for path in tqdm(paths, desc=model_type):\n",
    "        tmp = path.split('/')[-3].split('_')\n",
    "        date = tmp[1]\n",
    "        tt = tmp[2]\n",
    "        try:\n",
    "            gt = map_json_gt[f'clips/{date}/{tt}_0/20.jpg']\n",
    "        except:\n",
    "            gt = map_json_gt[f'clips/{date}/{tt}/20.jpg']\n",
    "\n",
    "\n",
    "        run_time = 0 #pred['run_time']\n",
    "        gt_lanes = gt['lanes']\n",
    "        y_samples = gt['h_samples']\n",
    "        raw_file = '../tusimple-test/' + gt['raw_file']\n",
    "\n",
    "        #gt_lanes = sorted(gt_lanes, key=lambda x: (np.array(x) > 0).sum())[-2:]\n",
    "        #gt_lanes = sorted(gt_lanes, key=lambda x: (np.array(x) > 0).mean())\n",
    "        idx = np.array([np.array(x)[np.array(x) > 0].mean() for x in gt_lanes])\n",
    "        right_i = np.argmin(np.where(idx > 640, idx - 640, np.inf))\n",
    "        left_i = np.argmin(np.where(idx < 640, 640 - idx, np.inf))\n",
    "        gt_lanes = [gt_lanes[left_i], gt_lanes[right_i]]\n",
    "\n",
    "        with open(path, 'rb') as f:\n",
    "            lanes = pickle.load(f)#joblib.load(path)\n",
    "        left_lane, right_lane = lanes[-1]\n",
    "\n",
    "        left_lane[:, 0] = (left_lane[:, 0] - 106) / 952 * 1280\n",
    "        left_lane[:, 1] = (left_lane[:, 1] + 390 - 206) / 454 * 720\n",
    "        right_lane[:, 0] = (right_lane[:, 0] - 106) / 952 * 1280\n",
    "        right_lane[:, 1] = (right_lane[:, 1] + 390 - 206) / 454 * 720\n",
    "\n",
    "        idx = np.argsort(left_lane[:, 1])\n",
    "        left_lane = left_lane[idx]\n",
    "        idx = np.argsort(right_lane[:, 1])\n",
    "        right_lane = right_lane[idx]\n",
    "\n",
    "        left_lane_x = InterpolatedUnivariateSpline(left_lane[:, 1], left_lane[:, 0], k=min(3, len(left_lane) - 1))(y_samples)\n",
    "        right_lane_x = InterpolatedUnivariateSpline(right_lane[:, 1], right_lane[:, 0], k=min(3, len(right_lane) - 1))(y_samples)\n",
    "\n",
    "        left_lane_x[np.array(gt_lanes[0]) == -2] = -2\n",
    "        right_lane_x[np.array(gt_lanes[1]) == -2] = -2\n",
    "\n",
    "        pred_lanes = [left_lane_x, right_lane_x]\n",
    "\n",
    "        #np.random.shuffle(pred_lanes)\n",
    "        # Overall Accuracy, False Positive Rate, False Negative Rate\n",
    "        acc, _fp, _fn = LaneEval.bench(pred_lanes, gt_lanes, y_samples, run_time)\n",
    "        \n",
    "        fp = _fp * 2\n",
    "        tp = 2 - fp \n",
    "        fn = _fn * 2\n",
    "        f1 = tp / (tp + (fn + (2 - tp)) * 0.5)\n",
    "        res.append([acc, f1])\n",
    "        #import pdb;pdb.set_trace()\n",
    "        \n",
    "        #if sc[0] < 0.5:\n",
    "        #    print(path, sc)\n",
    "        #    #break\n",
    "    print(len(res))\n",
    "    tmp = pd.DataFrame(res, columns=['ACC', 'F1']).mean(axis=0)\n",
    "    tmp['model_type'] = model_type\n",
    "    df_res.append(tmp)\n",
    "pd.concat(df_res, axis=1).T.set_index('model_type')"
   ]
  },
  {
   "cell_type": "markdown",
   "id": "cardiovascular-deadline",
   "metadata": {},
   "source": [
    "# Attacked Accuracy and F1 score"
   ]
  },
  {
   "cell_type": "code",
   "execution_count": 3,
   "id": "worse-correlation",
   "metadata": {},
   "outputs": [
    {
     "name": "stdout",
     "output_type": "stream",
     "text": [
      "laneatt\n"
     ]
    },
    {
     "data": {
      "application/vnd.jupyter.widget-view+json": {
       "model_id": "ad6bbe0f72b142b7be7c9ee40c9ce5ba",
       "version_major": 2,
       "version_minor": 0
      },
      "text/plain": [
       "HBox(children=(FloatProgress(value=0.0, description='laneatt', max=60.0, style=ProgressStyle(description_width…"
      ]
     },
     "metadata": {},
     "output_type": "display_data"
    },
    {
     "name": "stdout",
     "output_type": "stream",
     "text": [
      "\n",
      "60\n",
      "scnn\n"
     ]
    },
    {
     "data": {
      "application/vnd.jupyter.widget-view+json": {
       "model_id": "bec0971f198342f08269895d10f2d5c8",
       "version_major": 2,
       "version_minor": 0
      },
      "text/plain": [
       "HBox(children=(FloatProgress(value=0.0, description='scnn', max=60.0, style=ProgressStyle(description_width='i…"
      ]
     },
     "metadata": {},
     "output_type": "display_data"
    },
    {
     "name": "stdout",
     "output_type": "stream",
     "text": [
      "\n",
      "60\n",
      "ultrafast\n"
     ]
    },
    {
     "data": {
      "application/vnd.jupyter.widget-view+json": {
       "model_id": "0325b9a1965444299f7f960a1185587e",
       "version_major": 2,
       "version_minor": 0
      },
      "text/plain": [
       "HBox(children=(FloatProgress(value=0.0, description='ultrafast', max=60.0, style=ProgressStyle(description_wid…"
      ]
     },
     "metadata": {},
     "output_type": "display_data"
    },
    {
     "name": "stdout",
     "output_type": "stream",
     "text": [
      "\n",
      "60\n",
      "polylanenet\n"
     ]
    },
    {
     "data": {
      "application/vnd.jupyter.widget-view+json": {
       "model_id": "6ebe0f40fec645c9ab7c3a3259d9ca46",
       "version_major": 2,
       "version_minor": 0
      },
      "text/plain": [
       "HBox(children=(FloatProgress(value=0.0, description='polylanenet', max=60.0, style=ProgressStyle(description_w…"
      ]
     },
     "metadata": {},
     "output_type": "display_data"
    },
    {
     "name": "stdout",
     "output_type": "stream",
     "text": [
      "\n",
      "60\n"
     ]
    },
    {
     "data": {
      "text/html": [
       "<div>\n",
       "<style scoped>\n",
       "    .dataframe tbody tr th:only-of-type {\n",
       "        vertical-align: middle;\n",
       "    }\n",
       "\n",
       "    .dataframe tbody tr th {\n",
       "        vertical-align: top;\n",
       "    }\n",
       "\n",
       "    .dataframe thead th {\n",
       "        text-align: right;\n",
       "    }\n",
       "</style>\n",
       "<table border=\"1\" class=\"dataframe\">\n",
       "  <thead>\n",
       "    <tr style=\"text-align: right;\">\n",
       "      <th></th>\n",
       "      <th>ACC</th>\n",
       "      <th>F1</th>\n",
       "    </tr>\n",
       "    <tr>\n",
       "      <th>model_type</th>\n",
       "      <th></th>\n",
       "      <th></th>\n",
       "    </tr>\n",
       "  </thead>\n",
       "  <tbody>\n",
       "    <tr>\n",
       "      <th>laneatt</th>\n",
       "      <td>0.510565</td>\n",
       "      <td>0.291667</td>\n",
       "    </tr>\n",
       "    <tr>\n",
       "      <th>scnn</th>\n",
       "      <td>0.580506</td>\n",
       "      <td>0.275</td>\n",
       "    </tr>\n",
       "    <tr>\n",
       "      <th>ultrafast</th>\n",
       "      <td>0.355208</td>\n",
       "      <td>0.075</td>\n",
       "    </tr>\n",
       "    <tr>\n",
       "      <th>polylanenet</th>\n",
       "      <td>0.531548</td>\n",
       "      <td>0.191667</td>\n",
       "    </tr>\n",
       "  </tbody>\n",
       "</table>\n",
       "</div>"
      ],
      "text/plain": [
       "                  ACC        F1\n",
       "model_type                     \n",
       "laneatt      0.510565  0.291667\n",
       "scnn         0.580506     0.275\n",
       "ultrafast    0.355208     0.075\n",
       "polylanenet  0.531548  0.191667"
      ]
     },
     "execution_count": 3,
     "metadata": {},
     "output_type": "execute_result"
    }
   ],
   "source": [
    "BASE_DIR = '../logs/tusimple_attack/'\n",
    "\n",
    "df_res = []\n",
    "for model_type in ['laneatt', 'scnn', 'ultrafast', 'polylanenet']:\n",
    "    print(model_type)\n",
    "    paths = glob.glob(BASE_DIR + f'logs_{model_type}_drp_wb/tusimple_*/replay/model_lane_pred.pkl')\n",
    "    \n",
    "    res = []\n",
    "    for path in tqdm(paths, desc=model_type):\n",
    "        tmp = path.split('/')[-3].split('_')\n",
    "        date = tmp[1]\n",
    "        tt = tmp[2]\n",
    "        try:\n",
    "            gt = map_json_gt[f'clips/{date}/{tt}_0/20.jpg']\n",
    "        except:\n",
    "            gt = map_json_gt[f'clips/{date}/{tt}/20.jpg']\n",
    "\n",
    "\n",
    "        run_time = 0 #pred['run_time']\n",
    "        gt_lanes = gt['lanes']\n",
    "        y_samples = gt['h_samples']\n",
    "        raw_file = '../tusimple-test/' + gt['raw_file']\n",
    "\n",
    "        #gt_lanes = sorted(gt_lanes, key=lambda x: (np.array(x) > 0).sum())[-2:]\n",
    "        #gt_lanes = sorted(gt_lanes, key=lambda x: (np.array(x) > 0).mean())\n",
    "        idx = np.array([np.array(x)[np.array(x) > 0].mean() for x in gt_lanes])\n",
    "        right_i = np.argmin(np.where(idx > 640, idx - 640, np.inf))\n",
    "        left_i = np.argmin(np.where(idx < 640, 640 - idx, np.inf))\n",
    "        gt_lanes = [gt_lanes[left_i], gt_lanes[right_i]]\n",
    "\n",
    "        with open(path, 'rb') as f:\n",
    "            lanes = pickle.load(f)#joblib.load(path)\n",
    "\n",
    "        left_lane, right_lane = lanes[-1]\n",
    "\n",
    "        left_lane[:, 0] = (left_lane[:, 0] - 106) / 952 * 1280\n",
    "        left_lane[:, 1] = (left_lane[:, 1] + 390 - 206) / 454 * 720\n",
    "        right_lane[:, 0] = (right_lane[:, 0] - 106) / 952 * 1280\n",
    "        right_lane[:, 1] = (right_lane[:, 1] + 390 - 206) / 454 * 720\n",
    "\n",
    "        idx = np.argsort(left_lane[:, 1])\n",
    "        left_lane = left_lane[idx]\n",
    "        idx = np.argsort(right_lane[:, 1])\n",
    "        right_lane = right_lane[idx]\n",
    "\n",
    "        left_lane_x = InterpolatedUnivariateSpline(left_lane[:, 1], left_lane[:, 0], k=min(3, len(left_lane) - 1))(y_samples)\n",
    "        right_lane_x = InterpolatedUnivariateSpline(right_lane[:, 1], right_lane[:, 0], k=min(3, len(right_lane) - 1))(y_samples)\n",
    "\n",
    "        left_lane_x[np.array(gt_lanes[0]) == -2] = -2\n",
    "        right_lane_x[np.array(gt_lanes[1]) == -2] = -2\n",
    "\n",
    "        pred_lanes = [left_lane_x, right_lane_x]\n",
    "\n",
    "        #np.random.shuffle(pred_lanes)\n",
    "        # Overall Accuracy, False Positive Rate, False Negative Rate\n",
    "        acc, _fp, _fn = LaneEval.bench(pred_lanes, gt_lanes, y_samples, run_time)\n",
    "        \n",
    "        fp = _fp * 2\n",
    "        tp = 2 - fp \n",
    "        fn = _fn * 2\n",
    "        f1 = tp / (tp + (fn + (2 - tp)) * 0.5)\n",
    "        res.append([acc, f1])\n",
    "        #import pdb;pdb.set_trace()\n",
    "        \n",
    "        #if sc[0] < 0.5:\n",
    "        #    print(path, sc)\n",
    "        #    #break\n",
    "    print(len(res))\n",
    "    tmp = pd.DataFrame(res, columns=['ACC', 'F1']).mean(axis=0)\n",
    "    tmp['model_type'] = model_type\n",
    "    df_res.append(tmp)\n",
    "pd.concat(df_res, axis=1).T.set_index('model_type')"
   ]
  }
 ],
 "metadata": {
  "kernelspec": {
   "display_name": "Python 3",
   "language": "python",
   "name": "python3"
  },
  "language_info": {
   "codemirror_mode": {
    "name": "ipython",
    "version": 3
   },
   "file_extension": ".py",
   "mimetype": "text/x-python",
   "name": "python",
   "nbconvert_exporter": "python",
   "pygments_lexer": "ipython3",
   "version": "3.7.8"
  }
 },
 "nbformat": 4,
 "nbformat_minor": 5
}
